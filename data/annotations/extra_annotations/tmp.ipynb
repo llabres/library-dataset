{
 "cells": [
  {
   "cell_type": "code",
   "execution_count": 1,
   "metadata": {},
   "outputs": [],
   "source": [
    "import numpy as np\n",
    "\n",
    "imdb = np.load('books_from_masks.npy', allow_pickle=True)"
   ]
  },
  {
   "cell_type": "code",
   "execution_count": 6,
   "metadata": {},
   "outputs": [
    {
     "data": {
      "text/plain": [
       "array([[18, 18, 18, ...,  3,  3,  3],\n",
       "       [18, 18, 18, ...,  3,  3,  3],\n",
       "       [18, 18, 18, ...,  3,  3,  3],\n",
       "       ...,\n",
       "       [ 0, 19, 19, ..., 12, 12, 12],\n",
       "       [ 0,  0, 19, ..., 12, 12, 12],\n",
       "       [ 0,  0, 19, ..., 12, 12, 12]], dtype=uint8)"
      ]
     },
     "execution_count": 6,
     "metadata": {},
     "output_type": "execute_result"
    }
   ],
   "source": [
    "imdb[0]"
   ]
  },
  {
   "cell_type": "code",
   "execution_count": 35,
   "metadata": {},
   "outputs": [],
   "source": [
    "import numpy as np\n",
    "\n",
    "imdb = np.load('raw_ocr_line.npy', allow_pickle=True)\n",
    "for i in range(len(imdb)):\n",
    "    imdb[i]['image_path'] = imdb[i]['image_path'].replace('./smart_cut_images_jpg/','')\n",
    "    imdb[i].pop('raw_books')\n",
    "\n",
    "np.save('raw_ocr_line.npy', imdb)"
   ]
  }
 ],
 "metadata": {
  "kernelspec": {
   "display_name": "base",
   "language": "python",
   "name": "python3"
  },
  "language_info": {
   "codemirror_mode": {
    "name": "ipython",
    "version": 3
   },
   "file_extension": ".py",
   "mimetype": "text/x-python",
   "name": "python",
   "nbconvert_exporter": "python",
   "pygments_lexer": "ipython3",
   "version": "3.9.12"
  }
 },
 "nbformat": 4,
 "nbformat_minor": 2
}
